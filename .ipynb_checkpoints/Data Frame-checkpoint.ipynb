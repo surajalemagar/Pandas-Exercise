{
 "cells": [
  {
   "cell_type": "markdown",
   "metadata": {},
   "source": [
    "# Create DataFrome From Random And Csv File"
   ]
  },
  {
   "cell_type": "code",
   "execution_count": null,
   "metadata": {},
   "outputs": [],
   "source": [
    "import pandas as pd\n",
    "import numpy as np"
   ]
  },
  {
   "cell_type": "code",
   "execution_count": 5,
   "metadata": {},
   "outputs": [],
   "source": [
    "data=np.random.rand(5,4)"
   ]
  },
  {
   "cell_type": "code",
   "execution_count": 6,
   "metadata": {},
   "outputs": [
    {
     "data": {
      "text/plain": [
       "array([[0.18715651, 0.33739127, 0.8428248 , 0.51117059],\n",
       "       [0.06306364, 0.53440977, 0.36273064, 0.39591409],\n",
       "       [0.76705558, 0.39933716, 0.6139582 , 0.8114836 ],\n",
       "       [0.76503395, 0.79752424, 0.15897413, 0.89474738],\n",
       "       [0.06489182, 0.31104159, 0.73483852, 0.69395498]])"
      ]
     },
     "execution_count": 6,
     "metadata": {},
     "output_type": "execute_result"
    }
   ],
   "source": [
    "data"
   ]
  },
  {
   "cell_type": "code",
   "execution_count": 15,
   "metadata": {},
   "outputs": [],
   "source": [
    "s1=pd.DataFrame(data,columns=[\"suraj\",\"sujan\",\"suman\",\"krisa\"])"
   ]
  },
  {
   "cell_type": "code",
   "execution_count": 16,
   "metadata": {},
   "outputs": [
    {
     "data": {
      "text/html": [
       "<div>\n",
       "<style scoped>\n",
       "    .dataframe tbody tr th:only-of-type {\n",
       "        vertical-align: middle;\n",
       "    }\n",
       "\n",
       "    .dataframe tbody tr th {\n",
       "        vertical-align: top;\n",
       "    }\n",
       "\n",
       "    .dataframe thead th {\n",
       "        text-align: right;\n",
       "    }\n",
       "</style>\n",
       "<table border=\"1\" class=\"dataframe\">\n",
       "  <thead>\n",
       "    <tr style=\"text-align: right;\">\n",
       "      <th></th>\n",
       "      <th>suraj</th>\n",
       "      <th>sujan</th>\n",
       "      <th>suman</th>\n",
       "      <th>krisa</th>\n",
       "    </tr>\n",
       "  </thead>\n",
       "  <tbody>\n",
       "    <tr>\n",
       "      <th>0</th>\n",
       "      <td>0.187157</td>\n",
       "      <td>0.337391</td>\n",
       "      <td>0.842825</td>\n",
       "      <td>0.511171</td>\n",
       "    </tr>\n",
       "    <tr>\n",
       "      <th>1</th>\n",
       "      <td>0.063064</td>\n",
       "      <td>0.534410</td>\n",
       "      <td>0.362731</td>\n",
       "      <td>0.395914</td>\n",
       "    </tr>\n",
       "    <tr>\n",
       "      <th>2</th>\n",
       "      <td>0.767056</td>\n",
       "      <td>0.399337</td>\n",
       "      <td>0.613958</td>\n",
       "      <td>0.811484</td>\n",
       "    </tr>\n",
       "    <tr>\n",
       "      <th>3</th>\n",
       "      <td>0.765034</td>\n",
       "      <td>0.797524</td>\n",
       "      <td>0.158974</td>\n",
       "      <td>0.894747</td>\n",
       "    </tr>\n",
       "    <tr>\n",
       "      <th>4</th>\n",
       "      <td>0.064892</td>\n",
       "      <td>0.311042</td>\n",
       "      <td>0.734839</td>\n",
       "      <td>0.693955</td>\n",
       "    </tr>\n",
       "  </tbody>\n",
       "</table>\n",
       "</div>"
      ],
      "text/plain": [
       "      suraj     sujan     suman     krisa\n",
       "0  0.187157  0.337391  0.842825  0.511171\n",
       "1  0.063064  0.534410  0.362731  0.395914\n",
       "2  0.767056  0.399337  0.613958  0.811484\n",
       "3  0.765034  0.797524  0.158974  0.894747\n",
       "4  0.064892  0.311042  0.734839  0.693955"
      ]
     },
     "execution_count": 16,
     "metadata": {},
     "output_type": "execute_result"
    }
   ],
   "source": [
    "s1"
   ]
  },
  {
   "cell_type": "code",
   "execution_count": 17,
   "metadata": {},
   "outputs": [
    {
     "data": {
      "text/plain": [
       "RangeIndex(start=0, stop=5, step=1)"
      ]
     },
     "execution_count": 17,
     "metadata": {},
     "output_type": "execute_result"
    }
   ],
   "source": [
    "s1.index"
   ]
  },
  {
   "cell_type": "code",
   "execution_count": 18,
   "metadata": {},
   "outputs": [
    {
     "data": {
      "text/plain": [
       "(5, 4)"
      ]
     },
     "execution_count": 18,
     "metadata": {},
     "output_type": "execute_result"
    }
   ],
   "source": [
    "s1.shape\n"
   ]
  },
  {
   "cell_type": "code",
   "execution_count": 19,
   "metadata": {},
   "outputs": [
    {
     "data": {
      "text/plain": [
       "20"
      ]
     },
     "execution_count": 19,
     "metadata": {},
     "output_type": "execute_result"
    }
   ],
   "source": [
    "s1.size"
   ]
  },
  {
   "cell_type": "code",
   "execution_count": 23,
   "metadata": {},
   "outputs": [
    {
     "data": {
      "text/html": [
       "<div>\n",
       "<style scoped>\n",
       "    .dataframe tbody tr th:only-of-type {\n",
       "        vertical-align: middle;\n",
       "    }\n",
       "\n",
       "    .dataframe tbody tr th {\n",
       "        vertical-align: top;\n",
       "    }\n",
       "\n",
       "    .dataframe thead th {\n",
       "        text-align: right;\n",
       "    }\n",
       "</style>\n",
       "<table border=\"1\" class=\"dataframe\">\n",
       "  <thead>\n",
       "    <tr style=\"text-align: right;\">\n",
       "      <th></th>\n",
       "      <th>suraj</th>\n",
       "      <th>sujan</th>\n",
       "      <th>suman</th>\n",
       "      <th>krisa</th>\n",
       "    </tr>\n",
       "  </thead>\n",
       "  <tbody>\n",
       "    <tr>\n",
       "      <th>0</th>\n",
       "      <td>0.187157</td>\n",
       "      <td>0.337391</td>\n",
       "      <td>0.842825</td>\n",
       "      <td>0.511171</td>\n",
       "    </tr>\n",
       "    <tr>\n",
       "      <th>1</th>\n",
       "      <td>0.063064</td>\n",
       "      <td>0.534410</td>\n",
       "      <td>0.362731</td>\n",
       "      <td>0.395914</td>\n",
       "    </tr>\n",
       "    <tr>\n",
       "      <th>2</th>\n",
       "      <td>0.767056</td>\n",
       "      <td>0.399337</td>\n",
       "      <td>0.613958</td>\n",
       "      <td>0.811484</td>\n",
       "    </tr>\n",
       "    <tr>\n",
       "      <th>3</th>\n",
       "      <td>0.765034</td>\n",
       "      <td>0.797524</td>\n",
       "      <td>0.158974</td>\n",
       "      <td>0.894747</td>\n",
       "    </tr>\n",
       "    <tr>\n",
       "      <th>4</th>\n",
       "      <td>0.064892</td>\n",
       "      <td>0.311042</td>\n",
       "      <td>0.734839</td>\n",
       "      <td>0.693955</td>\n",
       "    </tr>\n",
       "  </tbody>\n",
       "</table>\n",
       "</div>"
      ],
      "text/plain": [
       "      suraj     sujan     suman     krisa\n",
       "0  0.187157  0.337391  0.842825  0.511171\n",
       "1  0.063064  0.534410  0.362731  0.395914\n",
       "2  0.767056  0.399337  0.613958  0.811484\n",
       "3  0.765034  0.797524  0.158974  0.894747\n",
       "4  0.064892  0.311042  0.734839  0.693955"
      ]
     },
     "execution_count": 23,
     "metadata": {},
     "output_type": "execute_result"
    }
   ],
   "source": [
    "s1\n"
   ]
  },
  {
   "cell_type": "code",
   "execution_count": 21,
   "metadata": {},
   "outputs": [
    {
     "data": {
      "text/html": [
       "<div>\n",
       "<style scoped>\n",
       "    .dataframe tbody tr th:only-of-type {\n",
       "        vertical-align: middle;\n",
       "    }\n",
       "\n",
       "    .dataframe tbody tr th {\n",
       "        vertical-align: top;\n",
       "    }\n",
       "\n",
       "    .dataframe thead th {\n",
       "        text-align: right;\n",
       "    }\n",
       "</style>\n",
       "<table border=\"1\" class=\"dataframe\">\n",
       "  <thead>\n",
       "    <tr style=\"text-align: right;\">\n",
       "      <th></th>\n",
       "      <th>suraj</th>\n",
       "      <th>sujan</th>\n",
       "      <th>suman</th>\n",
       "      <th>krisa</th>\n",
       "    </tr>\n",
       "  </thead>\n",
       "  <tbody>\n",
       "    <tr>\n",
       "      <th>count</th>\n",
       "      <td>5.000000</td>\n",
       "      <td>5.000000</td>\n",
       "      <td>5.000000</td>\n",
       "      <td>5.000000</td>\n",
       "    </tr>\n",
       "    <tr>\n",
       "      <th>mean</th>\n",
       "      <td>0.369440</td>\n",
       "      <td>0.475941</td>\n",
       "      <td>0.542665</td>\n",
       "      <td>0.661454</td>\n",
       "    </tr>\n",
       "    <tr>\n",
       "      <th>std</th>\n",
       "      <td>0.365526</td>\n",
       "      <td>0.199431</td>\n",
       "      <td>0.279152</td>\n",
       "      <td>0.206814</td>\n",
       "    </tr>\n",
       "    <tr>\n",
       "      <th>min</th>\n",
       "      <td>0.063064</td>\n",
       "      <td>0.311042</td>\n",
       "      <td>0.158974</td>\n",
       "      <td>0.395914</td>\n",
       "    </tr>\n",
       "    <tr>\n",
       "      <th>25%</th>\n",
       "      <td>0.064892</td>\n",
       "      <td>0.337391</td>\n",
       "      <td>0.362731</td>\n",
       "      <td>0.511171</td>\n",
       "    </tr>\n",
       "    <tr>\n",
       "      <th>50%</th>\n",
       "      <td>0.187157</td>\n",
       "      <td>0.399337</td>\n",
       "      <td>0.613958</td>\n",
       "      <td>0.693955</td>\n",
       "    </tr>\n",
       "    <tr>\n",
       "      <th>75%</th>\n",
       "      <td>0.765034</td>\n",
       "      <td>0.534410</td>\n",
       "      <td>0.734839</td>\n",
       "      <td>0.811484</td>\n",
       "    </tr>\n",
       "    <tr>\n",
       "      <th>max</th>\n",
       "      <td>0.767056</td>\n",
       "      <td>0.797524</td>\n",
       "      <td>0.842825</td>\n",
       "      <td>0.894747</td>\n",
       "    </tr>\n",
       "  </tbody>\n",
       "</table>\n",
       "</div>"
      ],
      "text/plain": [
       "          suraj     sujan     suman     krisa\n",
       "count  5.000000  5.000000  5.000000  5.000000\n",
       "mean   0.369440  0.475941  0.542665  0.661454\n",
       "std    0.365526  0.199431  0.279152  0.206814\n",
       "min    0.063064  0.311042  0.158974  0.395914\n",
       "25%    0.064892  0.337391  0.362731  0.511171\n",
       "50%    0.187157  0.399337  0.613958  0.693955\n",
       "75%    0.765034  0.534410  0.734839  0.811484\n",
       "max    0.767056  0.797524  0.842825  0.894747"
      ]
     },
     "execution_count": 21,
     "metadata": {},
     "output_type": "execute_result"
    }
   ],
   "source": [
    "s1.describe()"
   ]
  },
  {
   "cell_type": "code",
   "execution_count": 22,
   "metadata": {},
   "outputs": [
    {
     "name": "stdout",
     "output_type": "stream",
     "text": [
      "<class 'pandas.core.frame.DataFrame'>\n",
      "RangeIndex: 5 entries, 0 to 4\n",
      "Data columns (total 4 columns):\n",
      " #   Column  Non-Null Count  Dtype  \n",
      "---  ------  --------------  -----  \n",
      " 0   suraj   5 non-null      float64\n",
      " 1   sujan   5 non-null      float64\n",
      " 2   suman   5 non-null      float64\n",
      " 3   krisa   5 non-null      float64\n",
      "dtypes: float64(4)\n",
      "memory usage: 224.0 bytes\n"
     ]
    }
   ],
   "source": [
    "s1.info()"
   ]
  },
  {
   "cell_type": "code",
   "execution_count": 24,
   "metadata": {},
   "outputs": [
    {
     "data": {
      "text/html": [
       "<div>\n",
       "<style scoped>\n",
       "    .dataframe tbody tr th:only-of-type {\n",
       "        vertical-align: middle;\n",
       "    }\n",
       "\n",
       "    .dataframe tbody tr th {\n",
       "        vertical-align: top;\n",
       "    }\n",
       "\n",
       "    .dataframe thead th {\n",
       "        text-align: right;\n",
       "    }\n",
       "</style>\n",
       "<table border=\"1\" class=\"dataframe\">\n",
       "  <thead>\n",
       "    <tr style=\"text-align: right;\">\n",
       "      <th></th>\n",
       "      <th>suraj</th>\n",
       "      <th>sujan</th>\n",
       "      <th>suman</th>\n",
       "      <th>krisa</th>\n",
       "    </tr>\n",
       "  </thead>\n",
       "  <tbody>\n",
       "    <tr>\n",
       "      <th>0</th>\n",
       "      <td>0.187157</td>\n",
       "      <td>0.337391</td>\n",
       "      <td>0.842825</td>\n",
       "      <td>0.511171</td>\n",
       "    </tr>\n",
       "    <tr>\n",
       "      <th>1</th>\n",
       "      <td>0.063064</td>\n",
       "      <td>0.534410</td>\n",
       "      <td>0.362731</td>\n",
       "      <td>0.395914</td>\n",
       "    </tr>\n",
       "    <tr>\n",
       "      <th>2</th>\n",
       "      <td>0.767056</td>\n",
       "      <td>0.399337</td>\n",
       "      <td>0.613958</td>\n",
       "      <td>0.811484</td>\n",
       "    </tr>\n",
       "    <tr>\n",
       "      <th>3</th>\n",
       "      <td>0.765034</td>\n",
       "      <td>0.797524</td>\n",
       "      <td>0.158974</td>\n",
       "      <td>0.894747</td>\n",
       "    </tr>\n",
       "    <tr>\n",
       "      <th>4</th>\n",
       "      <td>0.064892</td>\n",
       "      <td>0.311042</td>\n",
       "      <td>0.734839</td>\n",
       "      <td>0.693955</td>\n",
       "    </tr>\n",
       "  </tbody>\n",
       "</table>\n",
       "</div>"
      ],
      "text/plain": [
       "      suraj     sujan     suman     krisa\n",
       "0  0.187157  0.337391  0.842825  0.511171\n",
       "1  0.063064  0.534410  0.362731  0.395914\n",
       "2  0.767056  0.399337  0.613958  0.811484\n",
       "3  0.765034  0.797524  0.158974  0.894747\n",
       "4  0.064892  0.311042  0.734839  0.693955"
      ]
     },
     "execution_count": 24,
     "metadata": {},
     "output_type": "execute_result"
    }
   ],
   "source": [
    "s1"
   ]
  },
  {
   "cell_type": "code",
   "execution_count": 25,
   "metadata": {},
   "outputs": [],
   "source": [
    "s1[\"NewColumn\"]=\"Nepal\""
   ]
  },
  {
   "cell_type": "code",
   "execution_count": 26,
   "metadata": {},
   "outputs": [
    {
     "data": {
      "text/html": [
       "<div>\n",
       "<style scoped>\n",
       "    .dataframe tbody tr th:only-of-type {\n",
       "        vertical-align: middle;\n",
       "    }\n",
       "\n",
       "    .dataframe tbody tr th {\n",
       "        vertical-align: top;\n",
       "    }\n",
       "\n",
       "    .dataframe thead th {\n",
       "        text-align: right;\n",
       "    }\n",
       "</style>\n",
       "<table border=\"1\" class=\"dataframe\">\n",
       "  <thead>\n",
       "    <tr style=\"text-align: right;\">\n",
       "      <th></th>\n",
       "      <th>suraj</th>\n",
       "      <th>sujan</th>\n",
       "      <th>suman</th>\n",
       "      <th>krisa</th>\n",
       "      <th>NewColumn</th>\n",
       "    </tr>\n",
       "  </thead>\n",
       "  <tbody>\n",
       "    <tr>\n",
       "      <th>0</th>\n",
       "      <td>0.187157</td>\n",
       "      <td>0.337391</td>\n",
       "      <td>0.842825</td>\n",
       "      <td>0.511171</td>\n",
       "      <td>Nepal</td>\n",
       "    </tr>\n",
       "    <tr>\n",
       "      <th>1</th>\n",
       "      <td>0.063064</td>\n",
       "      <td>0.534410</td>\n",
       "      <td>0.362731</td>\n",
       "      <td>0.395914</td>\n",
       "      <td>Nepal</td>\n",
       "    </tr>\n",
       "    <tr>\n",
       "      <th>2</th>\n",
       "      <td>0.767056</td>\n",
       "      <td>0.399337</td>\n",
       "      <td>0.613958</td>\n",
       "      <td>0.811484</td>\n",
       "      <td>Nepal</td>\n",
       "    </tr>\n",
       "    <tr>\n",
       "      <th>3</th>\n",
       "      <td>0.765034</td>\n",
       "      <td>0.797524</td>\n",
       "      <td>0.158974</td>\n",
       "      <td>0.894747</td>\n",
       "      <td>Nepal</td>\n",
       "    </tr>\n",
       "    <tr>\n",
       "      <th>4</th>\n",
       "      <td>0.064892</td>\n",
       "      <td>0.311042</td>\n",
       "      <td>0.734839</td>\n",
       "      <td>0.693955</td>\n",
       "      <td>Nepal</td>\n",
       "    </tr>\n",
       "  </tbody>\n",
       "</table>\n",
       "</div>"
      ],
      "text/plain": [
       "      suraj     sujan     suman     krisa NewColumn\n",
       "0  0.187157  0.337391  0.842825  0.511171     Nepal\n",
       "1  0.063064  0.534410  0.362731  0.395914     Nepal\n",
       "2  0.767056  0.399337  0.613958  0.811484     Nepal\n",
       "3  0.765034  0.797524  0.158974  0.894747     Nepal\n",
       "4  0.064892  0.311042  0.734839  0.693955     Nepal"
      ]
     },
     "execution_count": 26,
     "metadata": {},
     "output_type": "execute_result"
    }
   ],
   "source": [
    "s1"
   ]
  },
  {
   "cell_type": "code",
   "execution_count": 31,
   "metadata": {},
   "outputs": [],
   "source": [
    "s1[\"suraj\"]=s1[\"suraj\"]*3"
   ]
  },
  {
   "cell_type": "code",
   "execution_count": 32,
   "metadata": {},
   "outputs": [
    {
     "data": {
      "text/html": [
       "<div>\n",
       "<style scoped>\n",
       "    .dataframe tbody tr th:only-of-type {\n",
       "        vertical-align: middle;\n",
       "    }\n",
       "\n",
       "    .dataframe tbody tr th {\n",
       "        vertical-align: top;\n",
       "    }\n",
       "\n",
       "    .dataframe thead th {\n",
       "        text-align: right;\n",
       "    }\n",
       "</style>\n",
       "<table border=\"1\" class=\"dataframe\">\n",
       "  <thead>\n",
       "    <tr style=\"text-align: right;\">\n",
       "      <th></th>\n",
       "      <th>suraj</th>\n",
       "      <th>sujan</th>\n",
       "      <th>suman</th>\n",
       "      <th>krisa</th>\n",
       "      <th>NewColumn</th>\n",
       "    </tr>\n",
       "  </thead>\n",
       "  <tbody>\n",
       "    <tr>\n",
       "      <th>0</th>\n",
       "      <td>1.684409</td>\n",
       "      <td>0.337391</td>\n",
       "      <td>0.842825</td>\n",
       "      <td>0.511171</td>\n",
       "      <td>0.561470</td>\n",
       "    </tr>\n",
       "    <tr>\n",
       "      <th>1</th>\n",
       "      <td>0.567573</td>\n",
       "      <td>0.534410</td>\n",
       "      <td>0.362731</td>\n",
       "      <td>0.395914</td>\n",
       "      <td>0.189191</td>\n",
       "    </tr>\n",
       "    <tr>\n",
       "      <th>2</th>\n",
       "      <td>6.903500</td>\n",
       "      <td>0.399337</td>\n",
       "      <td>0.613958</td>\n",
       "      <td>0.811484</td>\n",
       "      <td>2.301167</td>\n",
       "    </tr>\n",
       "    <tr>\n",
       "      <th>3</th>\n",
       "      <td>6.885306</td>\n",
       "      <td>0.797524</td>\n",
       "      <td>0.158974</td>\n",
       "      <td>0.894747</td>\n",
       "      <td>2.295102</td>\n",
       "    </tr>\n",
       "    <tr>\n",
       "      <th>4</th>\n",
       "      <td>0.584026</td>\n",
       "      <td>0.311042</td>\n",
       "      <td>0.734839</td>\n",
       "      <td>0.693955</td>\n",
       "      <td>0.194675</td>\n",
       "    </tr>\n",
       "  </tbody>\n",
       "</table>\n",
       "</div>"
      ],
      "text/plain": [
       "      suraj     sujan     suman     krisa  NewColumn\n",
       "0  1.684409  0.337391  0.842825  0.511171   0.561470\n",
       "1  0.567573  0.534410  0.362731  0.395914   0.189191\n",
       "2  6.903500  0.399337  0.613958  0.811484   2.301167\n",
       "3  6.885306  0.797524  0.158974  0.894747   2.295102\n",
       "4  0.584026  0.311042  0.734839  0.693955   0.194675"
      ]
     },
     "execution_count": 32,
     "metadata": {},
     "output_type": "execute_result"
    }
   ],
   "source": [
    "s1"
   ]
  },
  {
   "cell_type": "code",
   "execution_count": 1,
   "metadata": {},
   "outputs": [
    {
     "ename": "NameError",
     "evalue": "name 's1' is not defined",
     "output_type": "error",
     "traceback": [
      "\u001b[1;31m---------------------------------------------------------------------------\u001b[0m",
      "\u001b[1;31mNameError\u001b[0m                                 Traceback (most recent call last)",
      "\u001b[1;32m<ipython-input-1-d0257f733e5e>\u001b[0m in \u001b[0;36m<module>\u001b[1;34m\u001b[0m\n\u001b[1;32m----> 1\u001b[1;33m \u001b[0ms1\u001b[0m\u001b[1;33m\u001b[0m\u001b[1;33m\u001b[0m\u001b[0m\n\u001b[0m",
      "\u001b[1;31mNameError\u001b[0m: name 's1' is not defined"
     ]
    }
   ],
   "source": [
    "s1"
   ]
  },
  {
   "cell_type": "code",
   "execution_count": null,
   "metadata": {},
   "outputs": [],
   "source": []
  }
 ],
 "metadata": {
  "kernelspec": {
   "display_name": "Python 3",
   "language": "python",
   "name": "python3"
  },
  "language_info": {
   "codemirror_mode": {
    "name": "ipython",
    "version": 3
   },
   "file_extension": ".py",
   "mimetype": "text/x-python",
   "name": "python",
   "nbconvert_exporter": "python",
   "pygments_lexer": "ipython3",
   "version": "3.7.6"
  }
 },
 "nbformat": 4,
 "nbformat_minor": 4
}
